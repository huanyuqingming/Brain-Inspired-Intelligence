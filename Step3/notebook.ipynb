{
 "cells": [
  {
   "cell_type": "code",
   "execution_count": null,
   "metadata": {},
   "outputs": [],
   "source": [
    "import torch\n",
    "from execute import execute\n",
    "\n",
    "if torch.cuda.is_available():\n",
    "    print('Using CUDA')\n",
    "else:\n",
    "    print('Using CPU')\n",
    "\n",
    "segment = 2\n",
    "batch_size = 128\n",
    "T = 4\n",
    "net_type = 'snn'\n",
    "total_epoch = 100\n",
    "learning_rate = 1e-3\n",
    "scheduler = (10, 0.8)\n",
    "\n",
    "execute(segment, batch_size, T, net_type, total_epoch, learning_rate, scheduler)"
   ]
  },
  {
   "cell_type": "code",
   "execution_count": null,
   "metadata": {},
   "outputs": [],
   "source": [
    "import os\n",
    "from sample import sample\n",
    "\n",
    "save_name = f'{net_type}_{segment}x{segment}'\n",
    "model_path = os.path.join('./model', f'{save_name}_epoch_{total_epoch}.pth')\n",
    "sample(segment, model_path, save_name=save_name, net_type=net_type)"
   ]
  }
 ],
 "metadata": {
  "kernelspec": {
   "display_name": "snn",
   "language": "python",
   "name": "python3"
  },
  "language_info": {
   "codemirror_mode": {
    "name": "ipython",
    "version": 3
   },
   "file_extension": ".py",
   "mimetype": "text/x-python",
   "name": "python",
   "nbconvert_exporter": "python",
   "pygments_lexer": "ipython3",
   "version": "3.10.15"
  }
 },
 "nbformat": 4,
 "nbformat_minor": 2
}

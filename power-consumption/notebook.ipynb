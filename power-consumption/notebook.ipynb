{
 "cells": [
  {
   "cell_type": "code",
   "execution_count": 1,
   "metadata": {},
   "outputs": [
    {
     "name": "stderr",
     "output_type": "stream",
     "text": [
      "/home/TuYuqing/anaconda3/envs/snn/lib/python3.10/site-packages/tqdm/auto.py:21: TqdmWarning: IProgress not found. Please update jupyter and ipywidgets. See https://ipywidgets.readthedocs.io/en/stable/user_install.html\n",
      "  from .autonotebook import tqdm as notebook_tqdm\n"
     ]
    },
    {
     "name": "stdout",
     "output_type": "stream",
     "text": [
      "SNN's estimated power consumption for one forward pass: 0.107464704 Joules\n",
      "ANN's estimated power consumption for one forward pass: 0.211943424 Joules\n"
     ]
    }
   ],
   "source": [
    "import torch\n",
    "import torch.nn as nn\n",
    "import annmodel\n",
    "import snnmodel\n",
    "\n",
    "def estimate_power(model, input_tensor, T=8):\n",
    "    # 假设每次乘法和加法消耗的能量 (单位: Joules)\n",
    "    power_per_multiply = 1e-9  # 假设每次乘法操作消耗的能量\n",
    "    power_per_add = 1e-9  # 假设每次加法操作消耗的能量\n",
    "\n",
    "    total_multiplications = 0\n",
    "    total_additions = 0\n",
    "\n",
    "    def count_ops(layer, x):\n",
    "        nonlocal total_multiplications, total_additions\n",
    "        if isinstance(layer, nn.Conv2d):\n",
    "            # 计算卷积操作的乘法次数和加法次数\n",
    "            out_size = x.shape[2:]  # 输出大小\n",
    "            in_channels = layer.in_channels\n",
    "            out_channels = layer.out_channels\n",
    "            kernel_size = layer.kernel_size[0]\n",
    "            total_multiplications += out_size[0] * out_size[1] * in_channels * kernel_size * kernel_size * out_channels\n",
    "            total_additions += total_multiplications  # 每次乘法后都会有加法\n",
    "        elif isinstance(layer, nn.Linear):\n",
    "            # 计算全连接层的乘法次数和加法次数\n",
    "            total_multiplications += x.shape[1] * layer.out_features\n",
    "            total_additions += total_multiplications  # 每次乘法后都会有加法\n",
    "        return x\n",
    "\n",
    "    def forward_hook(module, input, output):\n",
    "        # 钩子函数，用于计数每一层的操作\n",
    "        count_ops(module, input[0])\n",
    "\n",
    "    # 给每一层添加钩子函数\n",
    "    hooks = []\n",
    "    for layer in model.modules():\n",
    "        hook = layer.register_forward_hook(forward_hook)\n",
    "        hooks.append(hook)\n",
    "\n",
    "    # 前向传播\n",
    "    model(input_tensor)\n",
    "\n",
    "    # 删除钩子\n",
    "    for hook in hooks:\n",
    "        hook.remove()\n",
    "\n",
    "    # 假设每个乘法和加法操作的能量消耗\n",
    "    total_power = (total_multiplications + total_additions) * (power_per_multiply + power_per_add)\n",
    "    return total_power\n",
    "\n",
    "# 假设一个输入张量\n",
    "T = 4\n",
    "input_tensor = torch.randn(64, T, 3, 32, 32)\n",
    "snn = snnmodel.DPN(segment=2, T=T)\n",
    "ann = annmodel.DPN(segment=2)\n",
    "\n",
    "# 估算功耗\n",
    "power_consumption = estimate_power(snn, input_tensor)\n",
    "print(f\"SNN's estimated power consumption for one forward pass: {power_consumption:.9f} Joules\")\n",
    "\n",
    "power_consumption = estimate_power(ann, input_tensor)\n",
    "print(f\"ANN's estimated power consumption for one forward pass: {power_consumption:.9f} Joules\")\n"
   ]
  }
 ],
 "metadata": {
  "kernelspec": {
   "display_name": "snn",
   "language": "python",
   "name": "python3"
  },
  "language_info": {
   "codemirror_mode": {
    "name": "ipython",
    "version": 3
   },
   "file_extension": ".py",
   "mimetype": "text/x-python",
   "name": "python",
   "nbconvert_exporter": "python",
   "pygments_lexer": "ipython3",
   "version": "3.10.16"
  }
 },
 "nbformat": 4,
 "nbformat_minor": 2
}
